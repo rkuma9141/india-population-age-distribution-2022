India_Population_Distribution_2022.ipynb
import matplotlib.pyplot as plt

# Sample data for India's population distribution by age (2022)
age_groups = ['0-14', '15-24', '25-54', '55-64', '65+']
population = [253000000, 189000000, 478000000, 104000000, 83000000]

# 📊 Bar Chart (Graph)
plt.figure(figsize=(10,5))
plt.bar(age_groups, population, color='skyblue')
plt.title("India's Population Distribution by Age (2022) - Bar Chart")
plt.xlabel("Age Group")
plt.ylabel("Population")
plt.grid(axis='y', linestyle='--', alpha=0.5)
plt.savefig("population_bar_chart.png")  # Save graph image
plt.show()

# 📉 Histogram (Using same data but expanded for simulation)
# Simulate age data by repeating age groups as per population size (scaled down)
import numpy as np
age_data = (
    [10]*253 + 
    [20]*189 + 
    [35]*478 + 
    [60]*104 + 
    [70]*83
)

# Histogram
plt.figure(figsize=(10,5))
plt.hist(age_data, bins=5, color='salmon', edgecolor='black')
plt.title("India's Population Distribution by Age (2022) - Histogram")
plt.xlabel("Age")
plt.ylabel("Frequency")
plt.grid(axis='y', linestyle='--', alpha=0.5)
plt.savefig("population_histogram.png")  # Save histogram image
plt.show()
